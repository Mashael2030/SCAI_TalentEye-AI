{
 "cells": [
  {
   "cell_type": "code",
   "execution_count": 1,
   "id": "8a53fa04-74e3-44da-bc20-be2b75fe130a",
   "metadata": {},
   "outputs": [],
   "source": [
    "import pandas as pd\n",
    "from sklearn.model_selection import train_test_split\n",
    "from sklearn.ensemble import RandomForestClassifier"
   ]
  },
  {
   "cell_type": "code",
   "execution_count": 3,
   "id": "c3c3e2d8-903f-46af-bf03-921d21ea9c8d",
   "metadata": {},
   "outputs": [],
   "source": [
    "# قراءة البيانات\n",
    "file_path = r'C:\\Users\\msmas\\Desktop\\دوري الذكاء الأصطناعي\\DataSet\\تصنيف اللاعبين .csv'\n",
    "df = pd.read_csv(file_path, encoding='windows-1256', sep=';')"
   ]
  },
  {
   "cell_type": "code",
   "execution_count": 9,
   "id": "ede6d3b4-1e8e-4f60-9f9c-3cc4c1b5b759",
   "metadata": {},
   "outputs": [
    {
     "data": {
      "text/html": [
       "<div>\n",
       "<style scoped>\n",
       "    .dataframe tbody tr th:only-of-type {\n",
       "        vertical-align: middle;\n",
       "    }\n",
       "\n",
       "    .dataframe tbody tr th {\n",
       "        vertical-align: top;\n",
       "    }\n",
       "\n",
       "    .dataframe thead th {\n",
       "        text-align: right;\n",
       "    }\n",
       "</style>\n",
       "<table border=\"1\" class=\"dataframe\">\n",
       "  <thead>\n",
       "    <tr style=\"text-align: right;\">\n",
       "      <th></th>\n",
       "      <th>اسم اللاعب</th>\n",
       "      <th>العمر</th>\n",
       "      <th>المركز</th>\n",
       "      <th>عدد التمريرات</th>\n",
       "      <th>دقة التمريرات (%)</th>\n",
       "      <th>عدد التسديدات</th>\n",
       "      <th>عدد الأهداف</th>\n",
       "      <th>نسبة النجاح في المواجهات (%)</th>\n",
       "      <th>السرعة القصوى (كم/س)</th>\n",
       "      <th>المسافة المقطوعة (كم)</th>\n",
       "      <th>معدل نبض القلب</th>\n",
       "      <th>نسبة التعب في نهاية الشوط</th>\n",
       "      <th>التقييم العام</th>\n",
       "      <th>تصنيف اللاعب</th>\n",
       "      <th>تصنيف اللاعب2</th>\n",
       "    </tr>\n",
       "  </thead>\n",
       "  <tbody>\n",
       "    <tr>\n",
       "      <th>0</th>\n",
       "      <td>سعود القحطاني</td>\n",
       "      <td>23</td>\n",
       "      <td>وسط</td>\n",
       "      <td>91</td>\n",
       "      <td>67.96</td>\n",
       "      <td>11</td>\n",
       "      <td>4</td>\n",
       "      <td>47.24</td>\n",
       "      <td>31.31</td>\n",
       "      <td>9.19</td>\n",
       "      <td>125</td>\n",
       "      <td>48.07</td>\n",
       "      <td>5.37</td>\n",
       "      <td>غير موهوب</td>\n",
       "      <td>غير موهوب</td>\n",
       "    </tr>\n",
       "    <tr>\n",
       "      <th>1</th>\n",
       "      <td>راكان المالكي</td>\n",
       "      <td>22</td>\n",
       "      <td>دفاع</td>\n",
       "      <td>46</td>\n",
       "      <td>79.73</td>\n",
       "      <td>3</td>\n",
       "      <td>3</td>\n",
       "      <td>65.58</td>\n",
       "      <td>26.62</td>\n",
       "      <td>6.56</td>\n",
       "      <td>153</td>\n",
       "      <td>23.19</td>\n",
       "      <td>6.56</td>\n",
       "      <td>غير موهوب</td>\n",
       "      <td>غير موهوب</td>\n",
       "    </tr>\n",
       "    <tr>\n",
       "      <th>2</th>\n",
       "      <td>ناصر الشمري</td>\n",
       "      <td>19</td>\n",
       "      <td>دفاع</td>\n",
       "      <td>31</td>\n",
       "      <td>70.01</td>\n",
       "      <td>7</td>\n",
       "      <td>1</td>\n",
       "      <td>71.51</td>\n",
       "      <td>24.76</td>\n",
       "      <td>8.40</td>\n",
       "      <td>119</td>\n",
       "      <td>49.40</td>\n",
       "      <td>8.78</td>\n",
       "      <td>موهوب</td>\n",
       "      <td>موهوب</td>\n",
       "    </tr>\n",
       "    <tr>\n",
       "      <th>3</th>\n",
       "      <td>خالد الغامدي</td>\n",
       "      <td>21</td>\n",
       "      <td>دفاع</td>\n",
       "      <td>30</td>\n",
       "      <td>86.79</td>\n",
       "      <td>2</td>\n",
       "      <td>3</td>\n",
       "      <td>81.95</td>\n",
       "      <td>32.90</td>\n",
       "      <td>7.12</td>\n",
       "      <td>174</td>\n",
       "      <td>34.03</td>\n",
       "      <td>5.60</td>\n",
       "      <td>غير موهوب</td>\n",
       "      <td>غير موهوب</td>\n",
       "    </tr>\n",
       "    <tr>\n",
       "      <th>4</th>\n",
       "      <td>أحمد البلوي</td>\n",
       "      <td>23</td>\n",
       "      <td>دفاع</td>\n",
       "      <td>72</td>\n",
       "      <td>68.67</td>\n",
       "      <td>9</td>\n",
       "      <td>2</td>\n",
       "      <td>48.23</td>\n",
       "      <td>28.78</td>\n",
       "      <td>11.04</td>\n",
       "      <td>157</td>\n",
       "      <td>36.68</td>\n",
       "      <td>8.77</td>\n",
       "      <td>موهوب</td>\n",
       "      <td>موهوب</td>\n",
       "    </tr>\n",
       "  </tbody>\n",
       "</table>\n",
       "</div>"
      ],
      "text/plain": [
       "      اسم اللاعب  العمر المركز  عدد التمريرات  دقة التمريرات (%)  \\\n",
       "0  سعود القحطاني     23    وسط             91              67.96   \n",
       "1  راكان المالكي     22   دفاع             46              79.73   \n",
       "2    ناصر الشمري     19   دفاع             31              70.01   \n",
       "3   خالد الغامدي     21   دفاع             30              86.79   \n",
       "4    أحمد البلوي     23   دفاع             72              68.67   \n",
       "\n",
       "   عدد التسديدات  عدد الأهداف  نسبة النجاح في المواجهات (%)  \\\n",
       "0             11            4                         47.24   \n",
       "1              3            3                         65.58   \n",
       "2              7            1                         71.51   \n",
       "3              2            3                         81.95   \n",
       "4              9            2                         48.23   \n",
       "\n",
       "   السرعة القصوى (كم/س)  المسافة المقطوعة (كم)  معدل نبض القلب  \\\n",
       "0                 31.31                   9.19             125   \n",
       "1                 26.62                   6.56             153   \n",
       "2                 24.76                   8.40             119   \n",
       "3                 32.90                   7.12             174   \n",
       "4                 28.78                  11.04             157   \n",
       "\n",
       "   نسبة التعب في نهاية الشوط  التقييم العام تصنيف اللاعب تصنيف اللاعب2  \n",
       "0                      48.07           5.37    غير موهوب     غير موهوب  \n",
       "1                      23.19           6.56    غير موهوب     غير موهوب  \n",
       "2                      49.40           8.78        موهوب         موهوب  \n",
       "3                      34.03           5.60    غير موهوب     غير موهوب  \n",
       "4                      36.68           8.77        موهوب         موهوب  "
      ]
     },
     "execution_count": 9,
     "metadata": {},
     "output_type": "execute_result"
    }
   ],
   "source": [
    "df.head()"
   ]
  },
  {
   "cell_type": "code",
   "execution_count": 11,
   "id": "61032325-ca3b-45e1-bb20-6d2f2754af2e",
   "metadata": {},
   "outputs": [],
   "source": [
    "# حذف الأعمدة النصية غير المفيدة للنموذج\n",
    "df = df.drop(['اسم اللاعب', 'المركز', 'تصنيف اللاعب2'], axis=1)"
   ]
  },
  {
   "cell_type": "code",
   "execution_count": 13,
   "id": "73b34b58-bddf-4f2e-89d7-4a268ace2ce7",
   "metadata": {},
   "outputs": [],
   "source": [
    "# تحويل التصنيف إلى أرقام\n",
    "df['تصنيف اللاعب'] = df['تصنيف اللاعب'].map({'موهوب': 1, 'غير موهوب': 0})"
   ]
  },
  {
   "cell_type": "code",
   "execution_count": 15,
   "id": "88101a21-0a21-4007-8eb5-20296864f748",
   "metadata": {},
   "outputs": [],
   "source": [
    "# فصل الميزات (X) والهدف (y)\n",
    "X = df.drop('تصنيف اللاعب', axis=1)\n",
    "y = df['تصنيف اللاعب']"
   ]
  },
  {
   "cell_type": "code",
   "execution_count": 17,
   "id": "816b02f7-6bde-499d-b857-0239622c08cf",
   "metadata": {},
   "outputs": [],
   "source": [
    "# تقسيم البيانات إلى تدريب واختبار\n",
    "X_train, X_test, y_train, y_test = train_test_split(X, y, test_size=0.2, random_state=42)"
   ]
  },
  {
   "cell_type": "code",
   "execution_count": 19,
   "id": "f6759c53-b261-4d03-9a1c-57c03ca3791e",
   "metadata": {},
   "outputs": [
    {
     "data": {
      "text/html": [
       "<style>#sk-container-id-1 {\n",
       "  /* Definition of color scheme common for light and dark mode */\n",
       "  --sklearn-color-text: black;\n",
       "  --sklearn-color-line: gray;\n",
       "  /* Definition of color scheme for unfitted estimators */\n",
       "  --sklearn-color-unfitted-level-0: #fff5e6;\n",
       "  --sklearn-color-unfitted-level-1: #f6e4d2;\n",
       "  --sklearn-color-unfitted-level-2: #ffe0b3;\n",
       "  --sklearn-color-unfitted-level-3: chocolate;\n",
       "  /* Definition of color scheme for fitted estimators */\n",
       "  --sklearn-color-fitted-level-0: #f0f8ff;\n",
       "  --sklearn-color-fitted-level-1: #d4ebff;\n",
       "  --sklearn-color-fitted-level-2: #b3dbfd;\n",
       "  --sklearn-color-fitted-level-3: cornflowerblue;\n",
       "\n",
       "  /* Specific color for light theme */\n",
       "  --sklearn-color-text-on-default-background: var(--sg-text-color, var(--theme-code-foreground, var(--jp-content-font-color1, black)));\n",
       "  --sklearn-color-background: var(--sg-background-color, var(--theme-background, var(--jp-layout-color0, white)));\n",
       "  --sklearn-color-border-box: var(--sg-text-color, var(--theme-code-foreground, var(--jp-content-font-color1, black)));\n",
       "  --sklearn-color-icon: #696969;\n",
       "\n",
       "  @media (prefers-color-scheme: dark) {\n",
       "    /* Redefinition of color scheme for dark theme */\n",
       "    --sklearn-color-text-on-default-background: var(--sg-text-color, var(--theme-code-foreground, var(--jp-content-font-color1, white)));\n",
       "    --sklearn-color-background: var(--sg-background-color, var(--theme-background, var(--jp-layout-color0, #111)));\n",
       "    --sklearn-color-border-box: var(--sg-text-color, var(--theme-code-foreground, var(--jp-content-font-color1, white)));\n",
       "    --sklearn-color-icon: #878787;\n",
       "  }\n",
       "}\n",
       "\n",
       "#sk-container-id-1 {\n",
       "  color: var(--sklearn-color-text);\n",
       "}\n",
       "\n",
       "#sk-container-id-1 pre {\n",
       "  padding: 0;\n",
       "}\n",
       "\n",
       "#sk-container-id-1 input.sk-hidden--visually {\n",
       "  border: 0;\n",
       "  clip: rect(1px 1px 1px 1px);\n",
       "  clip: rect(1px, 1px, 1px, 1px);\n",
       "  height: 1px;\n",
       "  margin: -1px;\n",
       "  overflow: hidden;\n",
       "  padding: 0;\n",
       "  position: absolute;\n",
       "  width: 1px;\n",
       "}\n",
       "\n",
       "#sk-container-id-1 div.sk-dashed-wrapped {\n",
       "  border: 1px dashed var(--sklearn-color-line);\n",
       "  margin: 0 0.4em 0.5em 0.4em;\n",
       "  box-sizing: border-box;\n",
       "  padding-bottom: 0.4em;\n",
       "  background-color: var(--sklearn-color-background);\n",
       "}\n",
       "\n",
       "#sk-container-id-1 div.sk-container {\n",
       "  /* jupyter's `normalize.less` sets `[hidden] { display: none; }`\n",
       "     but bootstrap.min.css set `[hidden] { display: none !important; }`\n",
       "     so we also need the `!important` here to be able to override the\n",
       "     default hidden behavior on the sphinx rendered scikit-learn.org.\n",
       "     See: https://github.com/scikit-learn/scikit-learn/issues/21755 */\n",
       "  display: inline-block !important;\n",
       "  position: relative;\n",
       "}\n",
       "\n",
       "#sk-container-id-1 div.sk-text-repr-fallback {\n",
       "  display: none;\n",
       "}\n",
       "\n",
       "div.sk-parallel-item,\n",
       "div.sk-serial,\n",
       "div.sk-item {\n",
       "  /* draw centered vertical line to link estimators */\n",
       "  background-image: linear-gradient(var(--sklearn-color-text-on-default-background), var(--sklearn-color-text-on-default-background));\n",
       "  background-size: 2px 100%;\n",
       "  background-repeat: no-repeat;\n",
       "  background-position: center center;\n",
       "}\n",
       "\n",
       "/* Parallel-specific style estimator block */\n",
       "\n",
       "#sk-container-id-1 div.sk-parallel-item::after {\n",
       "  content: \"\";\n",
       "  width: 100%;\n",
       "  border-bottom: 2px solid var(--sklearn-color-text-on-default-background);\n",
       "  flex-grow: 1;\n",
       "}\n",
       "\n",
       "#sk-container-id-1 div.sk-parallel {\n",
       "  display: flex;\n",
       "  align-items: stretch;\n",
       "  justify-content: center;\n",
       "  background-color: var(--sklearn-color-background);\n",
       "  position: relative;\n",
       "}\n",
       "\n",
       "#sk-container-id-1 div.sk-parallel-item {\n",
       "  display: flex;\n",
       "  flex-direction: column;\n",
       "}\n",
       "\n",
       "#sk-container-id-1 div.sk-parallel-item:first-child::after {\n",
       "  align-self: flex-end;\n",
       "  width: 50%;\n",
       "}\n",
       "\n",
       "#sk-container-id-1 div.sk-parallel-item:last-child::after {\n",
       "  align-self: flex-start;\n",
       "  width: 50%;\n",
       "}\n",
       "\n",
       "#sk-container-id-1 div.sk-parallel-item:only-child::after {\n",
       "  width: 0;\n",
       "}\n",
       "\n",
       "/* Serial-specific style estimator block */\n",
       "\n",
       "#sk-container-id-1 div.sk-serial {\n",
       "  display: flex;\n",
       "  flex-direction: column;\n",
       "  align-items: center;\n",
       "  background-color: var(--sklearn-color-background);\n",
       "  padding-right: 1em;\n",
       "  padding-left: 1em;\n",
       "}\n",
       "\n",
       "\n",
       "/* Toggleable style: style used for estimator/Pipeline/ColumnTransformer box that is\n",
       "clickable and can be expanded/collapsed.\n",
       "- Pipeline and ColumnTransformer use this feature and define the default style\n",
       "- Estimators will overwrite some part of the style using the `sk-estimator` class\n",
       "*/\n",
       "\n",
       "/* Pipeline and ColumnTransformer style (default) */\n",
       "\n",
       "#sk-container-id-1 div.sk-toggleable {\n",
       "  /* Default theme specific background. It is overwritten whether we have a\n",
       "  specific estimator or a Pipeline/ColumnTransformer */\n",
       "  background-color: var(--sklearn-color-background);\n",
       "}\n",
       "\n",
       "/* Toggleable label */\n",
       "#sk-container-id-1 label.sk-toggleable__label {\n",
       "  cursor: pointer;\n",
       "  display: block;\n",
       "  width: 100%;\n",
       "  margin-bottom: 0;\n",
       "  padding: 0.5em;\n",
       "  box-sizing: border-box;\n",
       "  text-align: center;\n",
       "}\n",
       "\n",
       "#sk-container-id-1 label.sk-toggleable__label-arrow:before {\n",
       "  /* Arrow on the left of the label */\n",
       "  content: \"▸\";\n",
       "  float: left;\n",
       "  margin-right: 0.25em;\n",
       "  color: var(--sklearn-color-icon);\n",
       "}\n",
       "\n",
       "#sk-container-id-1 label.sk-toggleable__label-arrow:hover:before {\n",
       "  color: var(--sklearn-color-text);\n",
       "}\n",
       "\n",
       "/* Toggleable content - dropdown */\n",
       "\n",
       "#sk-container-id-1 div.sk-toggleable__content {\n",
       "  max-height: 0;\n",
       "  max-width: 0;\n",
       "  overflow: hidden;\n",
       "  text-align: left;\n",
       "  /* unfitted */\n",
       "  background-color: var(--sklearn-color-unfitted-level-0);\n",
       "}\n",
       "\n",
       "#sk-container-id-1 div.sk-toggleable__content.fitted {\n",
       "  /* fitted */\n",
       "  background-color: var(--sklearn-color-fitted-level-0);\n",
       "}\n",
       "\n",
       "#sk-container-id-1 div.sk-toggleable__content pre {\n",
       "  margin: 0.2em;\n",
       "  border-radius: 0.25em;\n",
       "  color: var(--sklearn-color-text);\n",
       "  /* unfitted */\n",
       "  background-color: var(--sklearn-color-unfitted-level-0);\n",
       "}\n",
       "\n",
       "#sk-container-id-1 div.sk-toggleable__content.fitted pre {\n",
       "  /* unfitted */\n",
       "  background-color: var(--sklearn-color-fitted-level-0);\n",
       "}\n",
       "\n",
       "#sk-container-id-1 input.sk-toggleable__control:checked~div.sk-toggleable__content {\n",
       "  /* Expand drop-down */\n",
       "  max-height: 200px;\n",
       "  max-width: 100%;\n",
       "  overflow: auto;\n",
       "}\n",
       "\n",
       "#sk-container-id-1 input.sk-toggleable__control:checked~label.sk-toggleable__label-arrow:before {\n",
       "  content: \"▾\";\n",
       "}\n",
       "\n",
       "/* Pipeline/ColumnTransformer-specific style */\n",
       "\n",
       "#sk-container-id-1 div.sk-label input.sk-toggleable__control:checked~label.sk-toggleable__label {\n",
       "  color: var(--sklearn-color-text);\n",
       "  background-color: var(--sklearn-color-unfitted-level-2);\n",
       "}\n",
       "\n",
       "#sk-container-id-1 div.sk-label.fitted input.sk-toggleable__control:checked~label.sk-toggleable__label {\n",
       "  background-color: var(--sklearn-color-fitted-level-2);\n",
       "}\n",
       "\n",
       "/* Estimator-specific style */\n",
       "\n",
       "/* Colorize estimator box */\n",
       "#sk-container-id-1 div.sk-estimator input.sk-toggleable__control:checked~label.sk-toggleable__label {\n",
       "  /* unfitted */\n",
       "  background-color: var(--sklearn-color-unfitted-level-2);\n",
       "}\n",
       "\n",
       "#sk-container-id-1 div.sk-estimator.fitted input.sk-toggleable__control:checked~label.sk-toggleable__label {\n",
       "  /* fitted */\n",
       "  background-color: var(--sklearn-color-fitted-level-2);\n",
       "}\n",
       "\n",
       "#sk-container-id-1 div.sk-label label.sk-toggleable__label,\n",
       "#sk-container-id-1 div.sk-label label {\n",
       "  /* The background is the default theme color */\n",
       "  color: var(--sklearn-color-text-on-default-background);\n",
       "}\n",
       "\n",
       "/* On hover, darken the color of the background */\n",
       "#sk-container-id-1 div.sk-label:hover label.sk-toggleable__label {\n",
       "  color: var(--sklearn-color-text);\n",
       "  background-color: var(--sklearn-color-unfitted-level-2);\n",
       "}\n",
       "\n",
       "/* Label box, darken color on hover, fitted */\n",
       "#sk-container-id-1 div.sk-label.fitted:hover label.sk-toggleable__label.fitted {\n",
       "  color: var(--sklearn-color-text);\n",
       "  background-color: var(--sklearn-color-fitted-level-2);\n",
       "}\n",
       "\n",
       "/* Estimator label */\n",
       "\n",
       "#sk-container-id-1 div.sk-label label {\n",
       "  font-family: monospace;\n",
       "  font-weight: bold;\n",
       "  display: inline-block;\n",
       "  line-height: 1.2em;\n",
       "}\n",
       "\n",
       "#sk-container-id-1 div.sk-label-container {\n",
       "  text-align: center;\n",
       "}\n",
       "\n",
       "/* Estimator-specific */\n",
       "#sk-container-id-1 div.sk-estimator {\n",
       "  font-family: monospace;\n",
       "  border: 1px dotted var(--sklearn-color-border-box);\n",
       "  border-radius: 0.25em;\n",
       "  box-sizing: border-box;\n",
       "  margin-bottom: 0.5em;\n",
       "  /* unfitted */\n",
       "  background-color: var(--sklearn-color-unfitted-level-0);\n",
       "}\n",
       "\n",
       "#sk-container-id-1 div.sk-estimator.fitted {\n",
       "  /* fitted */\n",
       "  background-color: var(--sklearn-color-fitted-level-0);\n",
       "}\n",
       "\n",
       "/* on hover */\n",
       "#sk-container-id-1 div.sk-estimator:hover {\n",
       "  /* unfitted */\n",
       "  background-color: var(--sklearn-color-unfitted-level-2);\n",
       "}\n",
       "\n",
       "#sk-container-id-1 div.sk-estimator.fitted:hover {\n",
       "  /* fitted */\n",
       "  background-color: var(--sklearn-color-fitted-level-2);\n",
       "}\n",
       "\n",
       "/* Specification for estimator info (e.g. \"i\" and \"?\") */\n",
       "\n",
       "/* Common style for \"i\" and \"?\" */\n",
       "\n",
       ".sk-estimator-doc-link,\n",
       "a:link.sk-estimator-doc-link,\n",
       "a:visited.sk-estimator-doc-link {\n",
       "  float: right;\n",
       "  font-size: smaller;\n",
       "  line-height: 1em;\n",
       "  font-family: monospace;\n",
       "  background-color: var(--sklearn-color-background);\n",
       "  border-radius: 1em;\n",
       "  height: 1em;\n",
       "  width: 1em;\n",
       "  text-decoration: none !important;\n",
       "  margin-left: 1ex;\n",
       "  /* unfitted */\n",
       "  border: var(--sklearn-color-unfitted-level-1) 1pt solid;\n",
       "  color: var(--sklearn-color-unfitted-level-1);\n",
       "}\n",
       "\n",
       ".sk-estimator-doc-link.fitted,\n",
       "a:link.sk-estimator-doc-link.fitted,\n",
       "a:visited.sk-estimator-doc-link.fitted {\n",
       "  /* fitted */\n",
       "  border: var(--sklearn-color-fitted-level-1) 1pt solid;\n",
       "  color: var(--sklearn-color-fitted-level-1);\n",
       "}\n",
       "\n",
       "/* On hover */\n",
       "div.sk-estimator:hover .sk-estimator-doc-link:hover,\n",
       ".sk-estimator-doc-link:hover,\n",
       "div.sk-label-container:hover .sk-estimator-doc-link:hover,\n",
       ".sk-estimator-doc-link:hover {\n",
       "  /* unfitted */\n",
       "  background-color: var(--sklearn-color-unfitted-level-3);\n",
       "  color: var(--sklearn-color-background);\n",
       "  text-decoration: none;\n",
       "}\n",
       "\n",
       "div.sk-estimator.fitted:hover .sk-estimator-doc-link.fitted:hover,\n",
       ".sk-estimator-doc-link.fitted:hover,\n",
       "div.sk-label-container:hover .sk-estimator-doc-link.fitted:hover,\n",
       ".sk-estimator-doc-link.fitted:hover {\n",
       "  /* fitted */\n",
       "  background-color: var(--sklearn-color-fitted-level-3);\n",
       "  color: var(--sklearn-color-background);\n",
       "  text-decoration: none;\n",
       "}\n",
       "\n",
       "/* Span, style for the box shown on hovering the info icon */\n",
       ".sk-estimator-doc-link span {\n",
       "  display: none;\n",
       "  z-index: 9999;\n",
       "  position: relative;\n",
       "  font-weight: normal;\n",
       "  right: .2ex;\n",
       "  padding: .5ex;\n",
       "  margin: .5ex;\n",
       "  width: min-content;\n",
       "  min-width: 20ex;\n",
       "  max-width: 50ex;\n",
       "  color: var(--sklearn-color-text);\n",
       "  box-shadow: 2pt 2pt 4pt #999;\n",
       "  /* unfitted */\n",
       "  background: var(--sklearn-color-unfitted-level-0);\n",
       "  border: .5pt solid var(--sklearn-color-unfitted-level-3);\n",
       "}\n",
       "\n",
       ".sk-estimator-doc-link.fitted span {\n",
       "  /* fitted */\n",
       "  background: var(--sklearn-color-fitted-level-0);\n",
       "  border: var(--sklearn-color-fitted-level-3);\n",
       "}\n",
       "\n",
       ".sk-estimator-doc-link:hover span {\n",
       "  display: block;\n",
       "}\n",
       "\n",
       "/* \"?\"-specific style due to the `<a>` HTML tag */\n",
       "\n",
       "#sk-container-id-1 a.estimator_doc_link {\n",
       "  float: right;\n",
       "  font-size: 1rem;\n",
       "  line-height: 1em;\n",
       "  font-family: monospace;\n",
       "  background-color: var(--sklearn-color-background);\n",
       "  border-radius: 1rem;\n",
       "  height: 1rem;\n",
       "  width: 1rem;\n",
       "  text-decoration: none;\n",
       "  /* unfitted */\n",
       "  color: var(--sklearn-color-unfitted-level-1);\n",
       "  border: var(--sklearn-color-unfitted-level-1) 1pt solid;\n",
       "}\n",
       "\n",
       "#sk-container-id-1 a.estimator_doc_link.fitted {\n",
       "  /* fitted */\n",
       "  border: var(--sklearn-color-fitted-level-1) 1pt solid;\n",
       "  color: var(--sklearn-color-fitted-level-1);\n",
       "}\n",
       "\n",
       "/* On hover */\n",
       "#sk-container-id-1 a.estimator_doc_link:hover {\n",
       "  /* unfitted */\n",
       "  background-color: var(--sklearn-color-unfitted-level-3);\n",
       "  color: var(--sklearn-color-background);\n",
       "  text-decoration: none;\n",
       "}\n",
       "\n",
       "#sk-container-id-1 a.estimator_doc_link.fitted:hover {\n",
       "  /* fitted */\n",
       "  background-color: var(--sklearn-color-fitted-level-3);\n",
       "}\n",
       "</style><div id=\"sk-container-id-1\" class=\"sk-top-container\"><div class=\"sk-text-repr-fallback\"><pre>RandomForestClassifier(random_state=42)</pre><b>In a Jupyter environment, please rerun this cell to show the HTML representation or trust the notebook. <br />On GitHub, the HTML representation is unable to render, please try loading this page with nbviewer.org.</b></div><div class=\"sk-container\" hidden><div class=\"sk-item\"><div class=\"sk-estimator fitted sk-toggleable\"><input class=\"sk-toggleable__control sk-hidden--visually\" id=\"sk-estimator-id-1\" type=\"checkbox\" checked><label for=\"sk-estimator-id-1\" class=\"sk-toggleable__label fitted sk-toggleable__label-arrow fitted\">&nbsp;&nbsp;RandomForestClassifier<a class=\"sk-estimator-doc-link fitted\" rel=\"noreferrer\" target=\"_blank\" href=\"https://scikit-learn.org/1.4/modules/generated/sklearn.ensemble.RandomForestClassifier.html\">?<span>Documentation for RandomForestClassifier</span></a><span class=\"sk-estimator-doc-link fitted\">i<span>Fitted</span></span></label><div class=\"sk-toggleable__content fitted\"><pre>RandomForestClassifier(random_state=42)</pre></div> </div></div></div></div>"
      ],
      "text/plain": [
       "RandomForestClassifier(random_state=42)"
      ]
     },
     "execution_count": 19,
     "metadata": {},
     "output_type": "execute_result"
    }
   ],
   "source": [
    "# تدريب النموذج\n",
    "model = RandomForestClassifier(n_estimators=100, random_state=42)\n",
    "model.fit(X_train, y_train)"
   ]
  },
  {
   "cell_type": "code",
   "execution_count": 21,
   "id": "b88e39b5-c2f7-410e-af97-4d4f402bbf5e",
   "metadata": {
    "scrolled": true
   },
   "outputs": [
    {
     "name": "stdout",
     "output_type": "stream",
     "text": [
      "✅ دقة النموذج: 0.98\n",
      "\n",
      "📋 تقرير التصنيف:\n",
      "               precision    recall  f1-score   support\n",
      "\n",
      "           0       0.98      0.98      0.98       958\n",
      "           1       0.98      0.98      0.98      1042\n",
      "\n",
      "    accuracy                           0.98      2000\n",
      "   macro avg       0.98      0.98      0.98      2000\n",
      "weighted avg       0.98      0.98      0.98      2000\n",
      "\n"
     ]
    }
   ],
   "source": [
    "from sklearn.metrics import accuracy_score, classification_report\n",
    "\n",
    "# التنبؤ بالنتائج\n",
    "y_pred = model.predict(X_test)\n",
    "\n",
    "# تقييم الأداء\n",
    "print(\"✅ دقة النموذج:\", accuracy_score(y_test, y_pred))\n",
    "print(\"\\n📋 تقرير التصنيف:\\n\", classification_report(y_test, y_pred))"
   ]
  },
  {
   "cell_type": "code",
   "execution_count": 23,
   "id": "42d33c4a-d274-4c71-854c-804857395ff3",
   "metadata": {},
   "outputs": [
    {
     "data": {
      "text/plain": [
       "<sklearn.metrics._plot.confusion_matrix.ConfusionMatrixDisplay at 0x2226d8d2ab0>"
      ]
     },
     "execution_count": 23,
     "metadata": {},
     "output_type": "execute_result"
    },
    {
     "data": {
      "image/png": "[encoded data removed]",
      "text/plain": [
       "<Figure size 640x480 with 2 Axes>"
      ]
     },
     "metadata": {},
     "output_type": "display_data"
    }
   ],
   "source": [
    "from sklearn.metrics import confusion_matrix, ConfusionMatrixDisplay\n",
    "\n",
    "cm = confusion_matrix(y_test, y_pred)\n",
    "disp = ConfusionMatrixDisplay(confusion_matrix=cm)\n",
    "disp.plot()"
   ]
  },
  {
   "cell_type": "code",
   "execution_count": 25,
   "id": "10251590-9d62-4667-9511-31fad03e930b",
   "metadata": {},
   "outputs": [],
   "source": [
    "# بيانات لاعب جديد بنفس ترتيب أعمدة X\n",
    "new_player = [[50, 85.5, 4, 2, 70.0, 29.5, 10.2, 140, 25.0, 7.5]]"
   ]
  },
  {
   "cell_type": "code",
   "execution_count": 29,
   "id": "18bab08b-7969-4da0-8998-1c91e16d7f5a",
   "metadata": {},
   "outputs": [
    {
     "name": "stdout",
     "output_type": "stream",
     "text": [
      "عدد الأعمدة التي تم تدريب النموذج عليها: 11\n",
      "أسماء الأعمدة: ['العمر', 'عدد التمريرات', 'دقة التمريرات (%)', 'عدد التسديدات', 'عدد الأهداف', 'نسبة النجاح في المواجهات (%)', 'السرعة القصوى (كم/س)', 'المسافة المقطوعة (كم)', 'معدل نبض القلب', 'نسبة التعب في نهاية الشوط', 'التقييم العام']\n"
     ]
    }
   ],
   "source": [
    "print(\"عدد الأعمدة التي تم تدريب النموذج عليها:\", len(X.columns))\n",
    "print(\"أسماء الأعمدة:\", list(X.columns))"
   ]
  },
  {
   "cell_type": "code",
   "execution_count": 31,
   "id": "aa6c534a-831c-4250-9ecd-36103a91d408",
   "metadata": {},
   "outputs": [],
   "source": [
    "# إدخال بيانات لاعب جديد \n",
    "new_player = pd.DataFrame([[\n",
    "    21,     # العمر\n",
    "    60,     # عدد التمريرات\n",
    "    83.5,   # دقة التمريرات\n",
    "    5,      # عدد التسديدات\n",
    "    2,      # عدد الأهداف\n",
    "    70.2,   # نسبة النجاح في المواجهات\n",
    "    31.1,   # السرعة القصوى\n",
    "    10.2,   # المسافة المقطوعة\n",
    "    150,    # معدل نبض القلب\n",
    "    28.5,   # نسبة التعب\n",
    "    8.1     # التقييم العام\n",
    "]], columns=[\n",
    "    'العمر', 'عدد التمريرات', 'دقة التمريرات (%)', 'عدد التسديدات',\n",
    "    'عدد الأهداف', 'نسبة النجاح في المواجهات (%)', 'السرعة القصوى (كم/س)',\n",
    "    'المسافة المقطوعة (كم)', 'معدل نبض القلب', 'نسبة التعب في نهاية الشوط',\n",
    "    'التقييم العام'\n",
    "])"
   ]
  },
  {
   "cell_type": "code",
   "execution_count": 33,
   "id": "e533a37b-ed33-48a6-adbb-b8f3fd3a757c",
   "metadata": {},
   "outputs": [],
   "source": [
    "# التنبؤ بالتصنيف\n",
    "prediction = model.predict(new_player)"
   ]
  },
  {
   "cell_type": "code",
   "execution_count": 53,
   "id": "0db886c2-2af1-4562-9463-194b8d3cc809",
   "metadata": {},
   "outputs": [
    {
     "name": "stdout",
     "output_type": "stream",
     "text": [
      " التوصية: اللاعب موهوب \n"
     ]
    }
   ],
   "source": [
    "# عرض النتيجة\n",
    "if prediction[0] == 1:\n",
    "    print(\" التوصية: اللاعب موهوب \")\n",
    "else:\n",
    "    print(\" التوصية: اللاعب غير موهوب \")"
   ]
  },
  {
   "cell_type": "code",
   "execution_count": 37,
   "id": "238d9261-78ba-439d-a6fe-381fd95b8780",
   "metadata": {},
   "outputs": [
    {
     "name": "stdout",
     "output_type": "stream",
     "text": [
      "[1]\n"
     ]
    }
   ],
   "source": [
    "# التأكد من ادخال بيانات لاعب جديد موهوب و التحقق من عمل النموذج \n",
    "new_player_1 = pd.DataFrame([[21, 60, 83.5, 5, 2, 70.2, 31.1, 10.2, 150, 28.5, 8.1]], columns=X.columns)\n",
    "print(model.predict(new_player_1))"
   ]
  },
  {
   "cell_type": "code",
   "execution_count": 39,
   "id": "7ed85b99-9c1d-45c9-80ae-d16257afefc5",
   "metadata": {},
   "outputs": [
    {
     "name": "stdout",
     "output_type": "stream",
     "text": [
      "[0]\n"
     ]
    }
   ],
   "source": [
    "# التأكد من ادخال بيانات لاعب جديد غير موهوب و التحقق من عمل النموذج \n",
    "new_player_2 = pd.DataFrame([[23, 30, 60.0, 1, 0, 45.0, 26.0, 7.0, 160, 45.0, 5.0]], columns=X.columns)\n",
    "print(model.predict(new_player_2))  "
   ]
  },
  {
   "cell_type": "code",
   "execution_count": 69,
   "id": "5572f9fb-1fc6-4ca5-83e8-e4a162d52059",
   "metadata": {},
   "outputs": [],
   "source": [
    "!pip install arabic_reshaper python-bidi --quiet"
   ]
  },
  {
   "cell_type": "code",
   "execution_count": 71,
   "id": "977dece5-7a13-453d-95b9-e55c62bcf79f",
   "metadata": {},
   "outputs": [],
   "source": [
    "import arabic_reshaper\n",
    "from bidi.algorithm import get_display\n",
    "import matplotlib.pyplot as plt\n",
    "import pandas as pd"
   ]
  },
  {
   "cell_type": "code",
   "execution_count": 73,
   "id": "a7571fcd-11fd-4427-ac5d-92e454b54b29",
   "metadata": {},
   "outputs": [],
   "source": [
    "# إعداد البيانات\n",
    "features = pd.Series(model.feature_importances_, index=X.columns)"
   ]
  },
  {
   "cell_type": "code",
   "execution_count": 75,
   "id": "9d139227-5060-4e94-98fa-ff11873f7a94",
   "metadata": {},
   "outputs": [],
   "source": [
    "# إعادة تشكيل النصوص بالعربية\n",
    "reshaped_labels = [get_display(arabic_reshaper.reshape(col)) for col in features.sort_values().index]"
   ]
  },
  {
   "cell_type": "code",
   "execution_count": 77,
   "id": "1534c498-7ca6-4301-8f0e-5b0984cdd5a4",
   "metadata": {},
   "outputs": [
    {
     "data": {
      "image/png": "[encoded data removed]",
      "text/plain": [
       "<Figure size 1000x600 with 1 Axes>"
      ]
     },
     "metadata": {},
     "output_type": "display_data"
    }
   ],
   "source": [
    "# الرسم\n",
    "plt.figure(figsize=(10, 6))\n",
    "plt.barh(reshaped_labels, features.sort_values())\n",
    "plt.title(get_display(arabic_reshaper.reshape('أهم المعايير في تصنيف اللاعب')))\n",
    "plt.xlabel(get_display(arabic_reshaper.reshape('درجة الأهمية')))\n",
    "plt.tight_layout()\n",
    "plt.show()"
   ]
  },
  {
   "cell_type": "code",
   "execution_count": 79,
   "id": "a69934d5-5f22-447e-a72b-408ab8448910",
   "metadata": {},
   "outputs": [
    {
     "data": {
      "text/plain": [
       "<Figure size 640x480 with 0 Axes>"
      ]
     },
     "metadata": {},
     "output_type": "display_data"
    }
   ],
   "source": [
    "plt.savefig(r'C:\\Users\\msmas\\Documents\\Player\\feature_importance.png', dpi=300, bbox_inches='tight')"
   ]
  },
  {
   "cell_type": "code",
   "execution_count": 81,
   "id": "0d6f7870-6f9f-4b73-9d1d-0f60c3bb962e",
   "metadata": {},
   "outputs": [],
   "source": [
    "# عرض الصورة بعد الحفظ\n",
    "plt.show()"
   ]
  },
  {
   "cell_type": "code",
   "execution_count": 83,
   "id": "576ab657-1460-4ef6-be12-a82e57129250",
   "metadata": {},
   "outputs": [],
   "source": [
    "import joblib"
   ]
  },
  {
   "cell_type": "code",
   "execution_count": 85,
   "id": "40e148fd-ced1-43b1-99f0-1c1f6f1fa83d",
   "metadata": {},
   "outputs": [
    {
     "data": {
      "text/plain": [
       "['player_model.pkl']"
      ]
     },
     "execution_count": 85,
     "metadata": {},
     "output_type": "execute_result"
    }
   ],
   "source": [
    "# حفظ النموذج\n",
    "joblib.dump(model, 'player_model.pkl')"
   ]
  },
  {
   "cell_type": "code",
   "execution_count": 87,
   "id": "a5445c49-894c-4d3a-b9c6-80de2fc7fac5",
   "metadata": {},
   "outputs": [],
   "source": [
    "# تحميل النموذج\n",
    "loaded_model = joblib.load('player_model.pkl')"
   ]
  },
  {
   "cell_type": "code",
   "execution_count": 89,
   "id": "274f1741-94d3-4539-a643-3761d21b7913",
   "metadata": {},
   "outputs": [
    {
     "name": "stdout",
     "output_type": "stream",
     "text": [
      "[1]\n"
     ]
    }
   ],
   "source": [
    "# اختبار سريع\n",
    "print(loaded_model.predict(new_player_1))"
   ]
  },
  {
   "cell_type": "code",
   "execution_count": 91,
   "id": "33c2b804-d553-492a-9333-838cab573dd9",
   "metadata": {},
   "outputs": [
    {
     "data": {
      "text/plain": [
       "['C:\\\\Users\\\\msmas\\\\Documents\\\\Player\\\\player_model.pkl']"
      ]
     },
     "execution_count": 91,
     "metadata": {},
     "output_type": "execute_result"
    }
   ],
   "source": [
    "joblib.dump(model, r'C:\\Users\\msmas\\Documents\\Player\\player_model.pkl')"
   ]
  },
  {
   "cell_type": "code",
   "execution_count": null,
   "id": "ca00edc8-afb6-4192-9b5c-811f9b64a55c",
   "metadata": {},
   "outputs": [],
   "source": []
  }
 ],
 "metadata": {
  "kernelspec": {
   "display_name": "Python 3 (ipykernel)",
   "language": "python",
   "name": "python3"
  },
  "language_info": {
   "codemirror_mode": {
    "name": "ipython",
    "version": 3
   },
   "file_extension": ".py",
   "mimetype": "text/x-python",
   "name": "python",
   "nbconvert_exporter": "python",
   "pygments_lexer": "ipython3",
   "version": "3.12.4"
  }
 },
 "nbformat": 4,
 "nbformat_minor": 5
}
